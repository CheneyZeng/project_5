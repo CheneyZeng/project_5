{
 "cells": [
  {
   "cell_type": "markdown",
   "metadata": {},
   "source": [
    "Getting started with tweepy: <br />\n",
    "https://www.tweepy.org/ <br />\n",
    "https://towardsdatascience.com/how-to-access-twitters-api-using-tweepy-5a13a206683b\n",
    "\n",
    "Simple examples: <br />\n",
    "https://medium.com/@jasonrigden/tweept-a-python-library-for-the-twitter-api-9d0537dcebd4"
   ]
  },
  {
   "cell_type": "code",
   "execution_count": 1,
   "metadata": {},
   "outputs": [],
   "source": [
    "#pip install tweepy"
   ]
  },
  {
   "cell_type": "code",
   "execution_count": 2,
   "metadata": {},
   "outputs": [],
   "source": [
    "import tweepy"
   ]
  },
  {
   "cell_type": "code",
   "execution_count": 3,
   "metadata": {},
   "outputs": [],
   "source": [
    "# Keys and tokens from Jeanette's Twitter Developer account\n",
    "consumer_key = 'KO8Sboi4q7EUMg9gsahEjrLeC'\n",
    "consumer_secret = 'nXiORvkFpkxZXeqsdw4NzRhZzhZ3pfMPqH3rh6IBypftv3dyag'\n",
    "access_token = '1303192867981074434-uZQQH0aZhhtUMQN6aF0LbC4CJVLqic'\n",
    "access_token_secret = 'DqpDXpxBerkfcRordHpwVkyOP2kT7qBesH7s9rYBkuP2f'"
   ]
  },
  {
   "cell_type": "code",
   "execution_count": 4,
   "metadata": {},
   "outputs": [],
   "source": [
    "# Setup access to API\n",
    "auth = tweepy.OAuthHandler(consumer_key, consumer_secret)\n",
    "auth.set_access_token(access_token, access_token_secret)\n",
    "\n",
    "api = tweepy.API(auth)"
   ]
  },
  {
   "cell_type": "code",
   "execution_count": 5,
   "metadata": {},
   "outputs": [
    {
     "name": "stdout",
     "output_type": "stream",
     "text": [
      "Authentication OK\n"
     ]
    }
   ],
   "source": [
    "# Test authentication\n",
    "try:\n",
    "    api.verify_credentials()\n",
    "    print(\"Authentication OK\")\n",
    "except:\n",
    "    print(\"Error during authentication\")\n",
    "# Code taken from https://towardsdatascience.com/how-to-access-twitters-api-using-tweepy-5a13a206683b"
   ]
  },
  {
   "cell_type": "markdown",
   "metadata": {},
   "source": [
    "One example of what you can do with tweepy:"
   ]
  },
  {
   "cell_type": "code",
   "execution_count": 6,
   "metadata": {},
   "outputs": [
    {
     "name": "stdout",
     "output_type": "stream",
     "text": [
      "VanDatajam\n",
      "39\n",
      "KatelynBoughton\n",
      "IWIS_SCWIST\n",
      "makepossible_ca\n",
      "SCWIST\n",
      "wimlds_cbus\n",
      "_jes5\n",
      "kaseybayne\n",
      "pklemon\n",
      "_srishtiyadav\n",
      "emmagarlock\n",
      "TUrdesai\n",
      "vguerracanedo\n",
      "OgundipeOre\n",
      "sehajkaur\n",
      "codeclubcanada\n",
      "learningcode\n",
      "code4ca\n",
      "WomenWhoCode\n",
      "WWEST_SFU\n",
      "ReuseTechBC\n"
     ]
    }
   ],
   "source": [
    "# Get the User object for the Vancouver Datajam Twitter account\n",
    "user = api.get_user('VanDatajam')\n",
    "\n",
    "print(user.screen_name)\n",
    "print(user.followers_count)\n",
    "for friend in user.friends():\n",
    "   print(friend.screen_name)\n",
    "# Code taken from http://docs.tweepy.org/en/latest/getting_started.html#models"
   ]
  }
 ],
 "metadata": {
  "kernelspec": {
   "display_name": "Python 3",
   "language": "python",
   "name": "python3"
  },
  "language_info": {
   "codemirror_mode": {
    "name": "ipython",
    "version": 3
   },
   "file_extension": ".py",
   "mimetype": "text/x-python",
   "name": "python",
   "nbconvert_exporter": "python",
   "pygments_lexer": "ipython3",
   "version": "3.7.6"
  }
 },
 "nbformat": 4,
 "nbformat_minor": 4
}
